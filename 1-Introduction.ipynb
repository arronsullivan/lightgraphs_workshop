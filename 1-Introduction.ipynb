{
 "cells": [
  {
   "cell_type": "markdown",
   "metadata": {},
   "source": [
    "# Building and analyzing graphs at scale with LightGraphs\n",
    "\n",
    "JuliaCon 2020\n",
    "\n",
    "Simon Schoelly, James Fairbanks, Mathieu Besançon\n",
    "\n",
    "## Introduction"
   ]
  },
  {
   "cell_type": "markdown",
   "metadata": {},
   "source": [
    "LightGraphs aims at being a reference graph library in Julia:\n",
    "\n",
    "- Simple: light dependency\n",
    "- Fast: recently benchmarks as one of the fastest graph libraries\n",
    "- Extensible: foundation for larger packages"
   ]
  },
  {
   "cell_type": "markdown",
   "metadata": {},
   "source": [
    "## This workshop\n",
    "\n",
    "1. Introduction\n",
    "2. Simple(Di)Graph\n",
    "3. Graph types\n",
    "4. Plotting graphs\n",
    "5. Applications\n",
    "6. Importing and exporting graphs\n",
    "7. Creating your own graph types"
   ]
  },
  {
   "cell_type": "markdown",
   "metadata": {},
   "source": [
    "## Focus\n",
    "\n",
    "LightGraphs, and some packages around it,  \n",
    "Hands-on demonstration, how to get started."
   ]
  }
 ],
 "metadata": {
  "kernelspec": {
   "display_name": "Julia 1.4.0",
   "language": "julia",
   "name": "julia-1.4"
  },
  "language_info": {
   "file_extension": ".jl",
   "mimetype": "application/julia",
   "name": "julia",
   "version": "1.4.0"
  }
 },
 "nbformat": 4,
 "nbformat_minor": 4
}
