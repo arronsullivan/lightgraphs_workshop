{
 "cells": [
  {
   "cell_type": "markdown",
   "metadata": {},
   "source": [
    "# Creating custom graph types\n",
    "\n",
    "Why:\n",
    "- Specialized knowledge of the performed operations\n",
    "- Need to convert back and forth from another data structure\n",
    "- Existing structure that could behave as a graph\n",
    "\n",
    "Two broad categories:\n",
    "- Generic types: data structure representing most graphs\n",
    "- Specialized types: represent a particular shape"
   ]
  },
  {
   "cell_type": "markdown",
   "metadata": {},
   "source": [
    "## Matrix-based graph"
   ]
  },
  {
   "cell_type": "code",
   "execution_count": 1,
   "metadata": {},
   "outputs": [
    {
     "data": {
      "text/plain": [
       "LightGraphs"
      ]
     },
     "execution_count": 1,
     "metadata": {},
     "output_type": "execute_result"
    }
   ],
   "source": [
    "using LightGraphs\n",
    "using GraphPlot\n",
    "using SparseArrays\n",
    "const LG = LightGraphs"
   ]
  },
  {
   "cell_type": "code",
   "execution_count": 28,
   "metadata": {},
   "outputs": [],
   "source": [
    "\"\"\"\n",
    "    MatrixGraph{D, M <: AbstractMatrix{Bool}}\n",
    "\n",
    "A matrix-based graph type.\n",
    "The boolean matrix `m` is the adjacency matrix.\n",
    "`D` is a boolean type parameter indicating directedness.\n",
    "\"\"\"\n",
    "struct MatrixGraph{D, M <: AbstractMatrix{Bool}} <: AbstractGraph{Int}\n",
    "    m::M\n",
    "end\n",
    "\n",
    "function MatrixGraph{D}(m::M) where {D, M <: AbstractMatrix{Bool}}\n",
    "    return MatrixGraph{D, M}(m)\n",
    "end\n",
    "\n",
    "function MatrixGraph{D}(nvtx::Integer) where {D}\n",
    "    m = spzeros(Bool, nvtx, nvtx)\n",
    "    return MatrixGraph{D, typeof(m)}(m)\n",
    "end"
   ]
  },
  {
   "cell_type": "markdown",
   "metadata": {},
   "source": [
    "## Implementing the interface"
   ]
  },
  {
   "cell_type": "code",
   "execution_count": 32,
   "metadata": {},
   "outputs": [],
   "source": [
    "LG.is_directed(::MatrixGraph{D}) where {D} = D\n",
    "LG.edgetype(::MatrixGraph) = LG.SimpleGraphs.SimpleEdge{Int}\n",
    "LG.nv(g::MatrixGraph) = size(g.m, 1)\n",
    "\n",
    "LG.ne(g::MatrixGraph{false}) = sum(g.m) ÷ 2\n",
    "LG.ne(g::MatrixGraph{true}) = sum(g.m)\n",
    "\n",
    "LG.vertices(g::MatrixGraph) = Base.OneTo(nv(g))"
   ]
  },
  {
   "cell_type": "code",
   "execution_count": 18,
   "metadata": {},
   "outputs": [
    {
     "data": {
      "text/plain": [
       "MatrixGraph{false,SparseMatrixCSC{Bool,Int64}}(4×4 SparseMatrixCSC{Bool,Int64} with 0 stored entries)"
      ]
     },
     "execution_count": 18,
     "metadata": {},
     "output_type": "execute_result"
    }
   ],
   "source": [
    "g = MatrixGraph{false}(4)"
   ]
  },
  {
   "cell_type": "code",
   "execution_count": 17,
   "metadata": {},
   "outputs": [],
   "source": [
    "# edges returns an iterator over edges\n",
    "# depends on directedness\n",
    "\n",
    "function LG.edges(g::MatrixGraph{true})\n",
    "    n = nv(g)\n",
    "    return (LightGraphs.SimpleGraphs.SimpleEdge(i,j) for i in 1:n for j in 1:n if g.m[i,j])\n",
    "end\n",
    "\n",
    "function LG.edges(g::MatrixGraph{false})\n",
    "    n = nv(g)\n",
    "    return (LightGraphs.SimpleGraphs.SimpleEdge(i, j) for i in 1:n for j in i:n if g.m[i,j])\n",
    "end"
   ]
  },
  {
   "cell_type": "code",
   "execution_count": 22,
   "metadata": {},
   "outputs": [],
   "source": [
    "LG.outneighbors(g::MatrixGraph, v) = [j for j in vertices(g) if g.m[v, j]]\n",
    "\n",
    "LG.inneighbors(g::MatrixGraph,  v) = [i for i in vertices(g) if g.m[i, v]]\n",
    "\n",
    "LG.has_vertex(g::MatrixGraph, v) = v in vertices(g)\n",
    "LG.has_edge(g::MatrixGraph, i, j) = g.m[i,j]"
   ]
  },
  {
   "cell_type": "markdown",
   "metadata": {},
   "source": [
    "## Mutating our graph"
   ]
  },
  {
   "cell_type": "code",
   "execution_count": 24,
   "metadata": {},
   "outputs": [],
   "source": [
    "function LG.add_edge!(g::MatrixGraph{true}, i, j)\n",
    "    has_edge(g, i, j) && return false\n",
    "    has_vertex(g, i) && has_vertex(g, j) || return false\n",
    "    g.m[i, j] = true\n",
    "end\n",
    "\n",
    "function LG.add_edge!(g::MatrixGraph{false}, i, j)\n",
    "    has_edge(g, i, j) && return false\n",
    "    has_vertex(g, i) && has_vertex(g, j) || return false\n",
    "    g.m[i, j] = g.m[j, i] = true\n",
    "end\n",
    "\n",
    "function LG.rem_edge!(g::MatrixGraph{true}, i, j)\n",
    "    has_edge(g, i, j) || return false\n",
    "    g.m[i, j] = false\n",
    "    return true\n",
    "end\n",
    "\n",
    "function LG.rem_edge!(g::MatrixGraph{false}, i, j)\n",
    "    has_edge(g, i, j) || return false\n",
    "    g.m[i, j] = g.m[j, i] = false\n",
    "    return true\n",
    "end"
   ]
  },
  {
   "cell_type": "markdown",
   "metadata": {},
   "source": [
    "Note: we do not implement vertex removal or addition.  \n",
    "$\\Rightarrow$ Requires replacing the matrix."
   ]
  },
  {
   "cell_type": "markdown",
   "metadata": {},
   "source": [
    "## Specializing non-mandatory"
   ]
  },
  {
   "cell_type": "code",
   "execution_count": 30,
   "metadata": {},
   "outputs": [],
   "source": [
    "using BenchmarkTools: @btime\n",
    "\n",
    "g = MatrixGraph{true}(sprand(Bool, 1000, 1000, 0.2));"
   ]
  },
  {
   "cell_type": "code",
   "execution_count": 37,
   "metadata": {},
   "outputs": [],
   "source": [
    "@btime adjacency_matrix($g)\n",
    "# why so long?\n",
    "LG.adjacency_matrix(g::MatrixGraph) = Int.(g.m)\n",
    "@btime adjacency_matrix($g);\n",
    "# that's better"
   ]
  },
  {
   "cell_type": "markdown",
   "metadata": {},
   "source": [
    "## Further resources\n",
    "\n",
    "Matrix-based graphs:  \n",
    "https://github.com/nassarhuda/MatrixNetworks.jl"
   ]
  }
 ],
 "metadata": {
  "@webio": {
   "lastCommId": null,
   "lastKernelId": null
  },
  "kernelspec": {
   "display_name": "Julia 1.4.0",
   "language": "julia",
   "name": "julia-1.4"
  },
  "language_info": {
   "file_extension": ".jl",
   "mimetype": "application/julia",
   "name": "julia",
   "version": "1.4.0"
  }
 },
 "nbformat": 4,
 "nbformat_minor": 4
}
