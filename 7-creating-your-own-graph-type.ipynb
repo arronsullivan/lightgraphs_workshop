{
 "cells": [
  {
   "cell_type": "markdown",
   "metadata": {},
   "source": [
    "This notebook should contain an example of how to create your own custom graph type. Some ideas:\n",
    "* dictionary based graphs\n",
    "* matrix based graphs\n",
    "* some special graph (cayley graph?)"
   ]
  }
 ],
 "metadata": {
  "@webio": {
   "lastCommId": null,
   "lastKernelId": null
  },
  "kernelspec": {
   "display_name": "Julia 1.4.0",
   "language": "julia",
   "name": "julia-1.4"
  },
  "language_info": {
   "file_extension": ".jl",
   "mimetype": "application/julia",
   "name": "julia",
   "version": "1.4.0"
  }
 },
 "nbformat": 4,
 "nbformat_minor": 4
}
